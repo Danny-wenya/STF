{
 "cells": [
  {
   "cell_type": "code",
   "execution_count": null,
   "metadata": {},
   "outputs": [],
   "source": []
  },
  {
   "cell_type": "markdown",
   "metadata": {},
   "source": [
    "一、研究背景  \n",
    "交通信号控制的底层逻辑是根据道路车辆的数量决定放行的道路，于此同时放行的道路车流方向不能发生冲突。如果能够准确预测道路车辆数，就能够制定合理的放行方案减轻路口的拥堵状况。根据以上逻辑，本研究拟采用STFGNN模型和D3QN模型融合得到新的强化学习信号控制模型。STFGNN模型拥有良好的车流量预测性能，使用STFGNN对道路车流量进行预测，将STFGNN对路口车流量的编码用于下游D3QN决策任务可大大提高D3QN的Q值学习能力。本研究将从STFGNN对动态信号控制路网的流量预测能力、STFGNN+D3QN对Q值的学习能力两个方面展开研究和实验。本研究具有两个创新点。一是动态信号控制交通流量预测，传统的流量预测研究是对静态交通信号控制的路口进行车流量预测，而本研究提供了对动态交通信号路网的预测方法；二是融合了图神经网络的强化学习交通信号控制，已有的研究常用MLP和自注意力机制构建深度强化学习中的神经网络，本研究创新性地使用了图神经网络并取得了良好的优化效果。"
   ]
  },
  {
   "cell_type": "markdown",
   "metadata": {},
   "source": [
    "二、名词定义  \n",
    "\n",
    "交通规则名词  \n",
    "相位：相位规定了放行的车道，路口每次只能执行一个相位。例如 一个路口包含8个相位，相位1表示放行南北直行和南北左转车道，相位2表示放行东西直行和东西左转车道。  \n",
    "强化学习名词  \n",
    "动作：动作对应交通规则中的相位，强化学习决策决定执行的动作编号等价于相位编号  \n",
    "动作周期：一个动作执行的时长，本研究中所有动作执行固定时长10s。  \n",
    "神经网络名词  \n",
    "图神经网络节点：节点为交叉路口每个方向每个转向的入口车道。例如一个拥有东南西北4个方向的路口，每个方向包含左直右3个转向，那么该路口包含4*3共12个节点。  \n",
    "统计量名词  \n",
    "车流量：每个节点在动作周期内的新进车辆数成为车流量。  \n",
    "车辆数：每个节点在动作周期内的总车辆数。"
   ]
  },
  {
   "cell_type": "markdown",
   "metadata": {},
   "source": [
    "三、实验设计\n",
    "\n",
    "STFGNN+D3QN模型分为两个部分，一个是STFGNN流量预测模型、二是D3QN决策模块。本研究将对两个模块进行实验。  \n",
    "\n",
    "3.1 cityflow仿真、UniLight、STFGNN独立实验\n",
    "\n",
    "cityflow仿真环境实验    \n",
    "a. 首先验证仿真路网的车流量、车辆数分布。对所有路口都不设定红绿灯使得车辆自由通行，统计节点的车流量、车辆数两个指标。  \n",
    "b. 验证在循环动作下路网的车流量、车辆数。所有路口从0相位开始循环执行相位，统计节点的车流量、车辆数两个指标。  \n",
    "UniLight实验  \n",
    "a. 使用原UniLight对路网进行训练，并记录每一轮训练的车流量。   \n",
    "b. 提取UniLight实验第1、25、50、75、100轮训练日志进行回放，查看路口拥堵情况，统计车道压力、平均穿越路网时间、穿越路网总车辆数3个统计量。   \n",
    "STFGNN实验    \n",
    "a. 使用STFGNN对cityflow仿真环境a、b实验中的车辆数车流量进行预测,统计MAE指标,保存归一化指标和adj_mx矩阵。  \n",
    "b. 提取UniLight实验第1、25、50、75、100轮的车流量数据，使用STFGNN进行预测，统计MAE指标,保存相应的归一化指标和adj_mx矩阵。验证STFGNN对动态信号控制下的流量预测性能。\n",
    "\n",
    "\n",
    "3.2 UniLight+STFGNN融合实验\n",
    "\n",
    "根据模型原理，将STFGNN融合到UniLight中作为深度神经网络的一部分。在融合模型中设置两个辅助损失函数即流量预测损失和相位预测损失。实验步骤如下：\n",
    "a. 运行融合模型并保存每一轮更新流量预测损失、相位预测损失。使用tensorboard记录数据。\n",
    "\n"
   ]
  },
  {
   "cell_type": "markdown",
   "metadata": {},
   "source": [
    "四、实验结果\n",
    "\n",
    "4.1 STFGNN的预测结果  \n",
    "使用STFGNN对UniLight在训练过程中第1、25、50、75轮车流量数据进行预测，预测效果各有不同。  \n",
    "1. 第1轮数据的预测MAE是为3.9，StemGNN_MAPE 317.91，超过10000%，预测性能非常差。    \n",
    "2. 第25轮数据的预测MAE是为5.15，StemGNN_MAPE 301.10，预测性能非常差。  \n",
    "3. 第50轮数据的预测MAE是为0.46，StemGNN_MAPE 168.70，预测性能非常差。  \n",
    "4. 第75轮数据的预测MAE是为0.71，StemGNN_MAPE 338.39，预测性能非常差。   \n",
    "4轮均值：281.525\n",
    "\n",
    "\n",
    "删除归一化后的预测结果，归一化后预测性能并没有降低  \n",
    "1. 第1轮数据的预测MAE是为3.9，StemGNN_MAPE 317.93，超过10000%，预测性能非常差。    \n",
    "2. 第25轮数据的预测MAE是为5.15，StemGNN_MAPE 256.60，预测性能非常差。  \n",
    "3. 第50轮数据的预测MAE是为0.46，StemGNN_MAPE 331.44，预测性能非常差。  \n",
    "4. 第75轮数据的预测MAE是为0.71，StemGNN_MAPE 338.38，预测性能非常差。    \n",
    "4轮均值：311.0875\n",
    "\n",
    "4.2 结论\n",
    "由4.1中的预测结果可知，STFGNN对强化学习控制下的仿真路网的预测效果非常差，StemGNN_MAPE百分比误差均达到10000%数量级，误差非常大。从结果来看，归一化的预测效果优于不归一化的效果。"
   ]
  },
  {
   "cell_type": "markdown",
   "metadata": {},
   "source": [
    "五、实验改进方案  \n",
    "5.1 原因分析  \n",
    "根据四中的实验结果可知STFGNN对UniLight控制下的仿真环境车流量预测效果极差，分析可能原因如下：  \n",
    "1. 节点特征设置不合理。上述方案中将每个车道的入口道作为STFGNN图神经网络的节点，以每个节点的车流量作为节点特征，而在STFGNN控制下的路网车流量实际上还与节点上游路口执行的相位有关系，故节点特征欠缺应有的信息量。\n",
    "2. 车流量的定义不合理。上述方案中将车流量作为节点特征，车流量的定义为入口道新进的车辆数，而道路上现有的车辆也是影响相位决策的因素，所以车流量的定义不合理。\n",
    "3. 节点定义不合理。以上方案中使用路口的进口道作为节点，而UniLight使用的是roadlink为单位进行计算。考虑以roadlink为单位计算是否优于以进口道为单位进行计算。\n",
    "\n",
    "以上分析了STFGNN流量预测效果差的原因。而STFGNN与UniLight的融合方式也存在问题，分析如下：  \n",
    "1. STFGNN的融合阶段错误。以上方案中将STFGNN直接对每个节点进行流量预测。这种方法无法识别属于同一路口的节点，可能对流量预测造成一定影响。  \n",
    "\n",
    "5.2 改进实验设计  \n",
    "根据5.1中的分析对进行一下验证实验：  \n",
    "1. 在节点特征中加入相位信息。将每个路口的相位信息转换为每个节点的通行情况并拼接到车流量特征之后，进行实验并记录结果。   \n",
    "2. 将STFGNN的流量预测误差与UniLight流量预测误差做对比。注意STFGNN中的流量的定义与UniLight中的流量略有差异，但也有一定对比价值。将STFGNN的误差衡量指标改为MSEloss，与UniLight保持一致。  \n",
    "3. 将原设计方案改为以roadlink为单位节点，并将同一路口的节点进行self attention后再使用图神经网络编码预测出每个节点的流量和相位，不再使用STFGNN，而是使用普通的GCN或者GAT代替。  "
   ]
  },
  {
   "cell_type": "markdown",
   "metadata": {},
   "source": [
    "六、改进实验结果  \n",
    "1. 在节点特征中加入相位信息结果。  \n",
    "在1、25、50、75轮的数据上进行实验，每轮实验的最终验证绝对百分比误差都远远超过100%，且结果与不加入相位时相似，说明加入相位对预测性能没有明显提升作用。StemGNN_MAPE的统计结果如下。  \n",
    "第1轮：317.94  \n",
    "第25轮：301.10  \n",
    "第50轮：331.43  \n",
    "第75轮：109.51  \n",
    "4轮均值264.99。该效果优于不加入相位时的效果。\n",
    "\n",
    "2. 原UniLight模型的流量预测误差和相位预测误差。  \n",
    "UniLight mse在1以下0.5左右,性能远远高于STFGNN。  \n",
    "STFGNN模型采用MSEloss后，效果如下：  \n",
    "\n",
    "2.1 STFGNN以流量为节点特征，采用归一化  \n",
    "第1轮数据，mse 68.91，欠拟合；   \n",
    "第25轮数据，mse 102.1，过拟合；  \n",
    "第50轮数据，mse 0.52，过拟合；  \n",
    "第75轮数据，mse 0.40，过拟合；  \n",
    "4次mse均值42.9825  \n",
    "\n",
    "2.2 STFGNN以流量为节点特征，不采用归一化  \n",
    "第1轮数据，mse 8.32，欠拟合；  \n",
    "第25轮数据，mse 1834.45，过拟合；  \n",
    "第50轮数据，mse 0.43，过拟合；  \n",
    "第75轮数据，mse 0.80，过拟合；  \n",
    "4次mse均值，第25轮数据偏差过大，均值没有参考性。只有流量作为输入且不做归一化导致模型性能不稳定。  \n",
    "\n",
    "2.3 STFGNN以流量、相位为节点特征，不采用归一化  \n",
    "第1轮数据，mse 3.54，欠拟合；  \n",
    "第25轮数据，mse 99.64，过拟合；  \n",
    "第50轮数据，mse 0.49，过拟合；  \n",
    "第75轮数据，mse 0.37，过拟合；  \n",
    "4次mse均值26.01  \n",
    "\n",
    "2.4 STFGNN以流量、相位为节点特征，采用归一化  \n",
    "第1轮数据，mse 59.60，欠拟合；  \n",
    "第25轮数据，mse 12.01，过拟合；  \n",
    "第50轮数据，mse 0.37，过拟合；  \n",
    "第75轮数据，mse 0.97，过拟合；  \n",
    "4次mse均值18.2375  \n",
    "\n",
    "从以上结论可以看出，以流量、相位为节点特征，采用归一化的模型效果最好。但仍然需要进行过拟合调整。  \n",
    "新进车辆的流量预测与UniLight的结果相近，UniLight的流量预测mse在0.3到1之间。可以尝试将该模型移植到原UniLight中。  \n",
    "\n",
    "2.5 进行过拟合调整尝试，数据改为：  \n",
    "    \"hidden_dims\": [[32,32,32], [32,32,32], [32,32,32]],  \n",
    "    \"first_layer_embedding_size\": 32,  \n",
    "    \"out_layer_dim\": 64,  \n",
    "    即各个参数量除以2  \n",
    "过拟合调整后结果如下：  \n",
    "第1轮数据，mse 0.10，过拟合；  \n",
    "第25轮数据，mse 1.57，过拟合；  \n",
    "第50轮数据，mse 0.39，过拟合；  \n",
    "第75轮数据，mse 0.37，过拟合；  \n",
    "4次mse均值0.6075,调整过拟合后模型表现趋于稳定，整体误差也降低。  \n",
    "\n",
    "2.6 使用2.5中的参数计算仍然过拟合，再次进行参数量减半，调整为以下参数：\n",
    "\"hidden_dims\": [[16,16,16], [16,16,16], [16,16,16]],  \n",
    "\"first_layer_embedding_size\": 16,  \n",
    "\"out_layer_dim\": 32, \n",
    "过拟合调整后结果如下：  \n",
    "第1轮数据，mse 0.10，过拟合；  \n",
    "第25轮数据，mse 0.96，过拟合；  \n",
    "第50轮数据，mse 0.36，过拟合；  \n",
    "第75轮数据，mse 0.36，过拟合；  \n",
    "4次mse均值0.4450，预测效果有所提升但提升不明显。将本轮参数量定为最终参数量。  \n",
    "\n",
    "\n",
    "3. 以roadlink为单位节点并修改图神经网络的使用位置。\n",
    "根据1和2中的实验结果，有必要进行该实验。对神经网络进行改造后实验结果如下："
   ]
  },
  {
   "cell_type": "code",
   "execution_count": null,
   "metadata": {},
   "outputs": [],
   "source": []
  },
  {
   "cell_type": "code",
   "execution_count": 1,
   "metadata": {},
   "outputs": [],
   "source": []
  },
  {
   "cell_type": "markdown",
   "metadata": {},
   "source": [
    "使用训练好的模型生成的数据训练流量预测模型"
   ]
  },
  {
   "cell_type": "markdown",
   "metadata": {},
   "source": [
    "* 数据处理"
   ]
  },
  {
   "cell_type": "code",
   "execution_count": 5,
   "metadata": {},
   "outputs": [],
   "source": [
    "import json\n",
    "import glob\n",
    "import os\n",
    "import numpy as np\n",
    "\n",
    "# 数据顺序   ['TSflow','TSwait','TSgreen','TSphase','TStime','Envtime']\n",
    "data_path=os.path.join('./trained_data','*.json')\n",
    "data_all_epoch=[]\n",
    "for file in glob.glob(data_path):\n",
    "    data=[]\n",
    "    with open(file, 'r') as file:\n",
    "        for line in file:\n",
    "            data.append(json.loads(line))\n",
    "    data_all_epoch.append(data) \n",
    "\n",
    "# 提取出TSflow、TSgreen\n",
    "all_data=[]\n",
    "for i in range(len(data_all_epoch)):\n",
    "    raw_data=np.array([[np.c_[np.array(item[0]),np.array(item[2])] for item in data] for data in data_all_epoch[i]])\n",
    "    raw_data=raw_data.reshape(raw_data.shape[0],-1,raw_data.shape[-1]) # [batch_size,N,2]\n",
    "    road_data=raw_data.reshape(raw_data.shape[0],-1,3,2)\n",
    "    all_data.append(np.sum(road_data,axis=2))\n",
    "data=np.concatenate(all_data,axis=0)\n",
    "save_path=f'./raw_data/CITYFLOW/trained_data_sample.npz'\n",
    "np.savez(save_path,data)"
   ]
  },
  {
   "cell_type": "code",
   "execution_count": 85,
   "metadata": {},
   "outputs": [],
   "source": [
    "%matplotlib agg\n",
    "import matplotlib\n",
    "import matplotlib.pyplot as plt\n",
    "import pandas as pd\n",
    "\n",
    "for e,file in enumerate(glob.glob('./trained_data/*.npz')):\n",
    "    plt.figure(figsize=[30,30])  \n",
    "    for i in range(6):\n",
    "        plt.subplot(6,1,i+1)\n",
    "        for j in range(4):\n",
    "            flow=pd.DataFrame(road_data[:,i*4+j,0]).rolling(10).mean()\n",
    "            plt.plot(flow,label=f'direct flow {j}')\n",
    "            plt.legend()\n",
    "            plt.title(f'epoch{e} inter {i+1}')\n",
    "            \n",
    "    plt.savefig(f'./trained_data/epoch{e} road flow.png')"
   ]
  },
  {
   "cell_type": "code",
   "execution_count": 159,
   "metadata": {},
   "outputs": [
    {
     "data": {
      "text/plain": [
       "(42, 576, 0.07291666666666667)"
      ]
     },
     "execution_count": 159,
     "metadata": {},
     "output_type": "execute_result"
    }
   ],
   "source": [
    "from collections import defaultdict\n",
    "\n",
    "# 原{下游路口:上游路口}   反过来{上游路口:下游路口}\n",
    "adj=json.load(open('./cityflow_adj/stfgnn_adj.json','r'))\n",
    "reverse=defaultdict(list)\n",
    "for key,value in adj.items():\n",
    "    reverse[str(value)].append(key)\n",
    "\n",
    "# 将节点3个一组聚合   新旧节点映射表\n",
    "n=0\n",
    "nodes_map={}\n",
    "for i in range(24):\n",
    "    nodes_map[f'{list(range(i*3,i*3+3))}']=i\n",
    "\n",
    "up_down=defaultdict(list)\n",
    "for key,value in reverse.items():\n",
    "    if key!='[]':\n",
    "        key=nodes_map[str(sorted(eval(key)))]\n",
    "        for old_node in value:\n",
    "            up_down[key].append(int(old_node)//3)\n",
    "up_down={k:up_down[k] for k in sorted(up_down)}\n",
    "with open('./cityflow_adj/adj24nodes.json','w') as f:\n",
    "    json.dump(up_down,f)\n",
    "\n",
    "# 生成新的adj\n",
    "import pickle\n",
    "\n",
    "adj24=np.zeros([24,24])\n",
    "for k,v in up_down.items():\n",
    "    adj24[k,v]=1\n",
    "with open('./raw_data/CITYFLOW/adj_24.pkl','wb') as f:\n",
    "    pickle.dump(adj24,f)\n",
    "\n",
    "sum(sum(adj24==1)), 24*24, sum(sum(adj24==1))/(24*24)"
   ]
  },
  {
   "cell_type": "code",
   "execution_count": 164,
   "metadata": {},
   "outputs": [
    {
     "data": {
      "text/plain": [
       "(1200, 24, 2)"
      ]
     },
     "execution_count": 164,
     "metadata": {},
     "output_type": "execute_result"
    }
   ],
   "source": [
    "road_data.shape"
   ]
  },
  {
   "cell_type": "code",
   "execution_count": 174,
   "metadata": {},
   "outputs": [
    {
     "data": {
      "text/plain": [
       "(12000, 24, 2)"
      ]
     },
     "execution_count": 174,
     "metadata": {},
     "output_type": "execute_result"
    }
   ],
   "source": [
    "np.load('raw_data/CITYFLOW/trained_data_sample.npz')['arr_0'].shape"
   ]
  },
  {
   "cell_type": "code",
   "execution_count": 6,
   "metadata": {},
   "outputs": [
    {
     "data": {
      "text/plain": [
       "0.001"
      ]
     },
     "execution_count": 6,
     "metadata": {},
     "output_type": "execute_result"
    }
   ],
   "source": [
    "1e-3"
   ]
  },
  {
   "cell_type": "markdown",
   "metadata": {},
   "source": [
    "本阶段主要完成了Qmix绿波车速引导的模型搭建。在使用强化学习信号控制的路网中，自适应的信号决策解决了路网中的拥堵问题，使得车辆与车辆之间的相互影响减弱，在此种条件下以绿波车速通行能够有效减少红灯停车次数，提高驾驶体验。\n",
    "所以本方案使用Qmix强化学习框架训练绿波车速引导模型，模型设计如下：\n",
    " \n",
    "绿波车速模型的决策时刻与信号控制周期决策同步，绿波车速的拟合考虑了未来2个控制周期的信号，为了获取未来第2个周期的信号，本项目使用流量预测模型预测除了未来第2个周期开始时的道路车辆以提供给信号控制模型进行信号输出。绿波车速引导模型的输入包含车道长度、当前车道车辆数和车辆密度、未来2个信号周期的信号。\n",
    "当前实验进展：\n",
    "1.\t已验证流量预测模型对未来第2个周期开始前的车辆数预测能力。所用车流数据分布为平均每条道路每间隔20s进行一次截图，路面车辆数为20辆。流量预测绝对平均误差（MAE）为1.6，均方根误差（MSE）为5。\n",
    "2.\t已搭建模型训练框架。未获得有效成果。\n"
   ]
  },
  {
   "cell_type": "markdown",
   "metadata": {},
   "source": []
  },
  {
   "cell_type": "code",
   "execution_count": 37,
   "metadata": {},
   "outputs": [],
   "source": [
    "import glob\n",
    "import json\n",
    "\n",
    "result=[]\n",
    "for file in glob.glob('./log整理/*.log'):\n",
    "    with open(file,'r') as f:\n",
    "        for line in f:\n",
    "            if \"evaluate result\" in line:\n",
    "                try:\n",
    "                    t=float(line.split(':')[2].rstrip(' lr:').lstrip(' '))\n",
    "                except:\n",
    "                    t=float(line.split(':')[1].rstrip('\\n'))\n",
    "                if t<6000:\n",
    "                    result.append(float(t))\n",
    "        result.append(file)\n",
    "                "
   ]
  },
  {
   "cell_type": "code",
   "execution_count": 38,
   "metadata": {},
   "outputs": [
    {
     "data": {
      "text/plain": [
       "[5194.2966880294,\n",
       " 5197.167839376149,\n",
       " 5469.337904454603,\n",
       " 4193.813606417783,\n",
       " 4741.00515394613,\n",
       " 3820.3131358400933,\n",
       " 3582.3661542598484,\n",
       " 4418.666069107695,\n",
       " './log整理\\\\0-1.log',\n",
       " 3164.6125128848653,\n",
       " 2998.731636265854,\n",
       " 3690.638103347824,\n",
       " './log整理\\\\0-2.log',\n",
       " 3021.369336261372,\n",
       " 1901.719939048985,\n",
       " 2334.9040469681354,\n",
       " 2723.2130596513243,\n",
       " 2284.3030072155248,\n",
       " 1280.584054138843,\n",
       " 3431.3012593555327,\n",
       " 1581.966030294882,\n",
       " 3087.1183614932997,\n",
       " 2200.4655133778515,\n",
       " 2908.954690090978,\n",
       " 1783.4001703043068,\n",
       " 4428.746784385784,\n",
       " 4626.020526150674,\n",
       " './log整理\\\\0.log',\n",
       " 4600.3867700444,\n",
       " 4643.536906736,\n",
       " 2572.140008067,\n",
       " 2966.3826020705,\n",
       " 3567.9879442477,\n",
       " 2109.0635952136,\n",
       " 2368.3191413078,\n",
       " './log整理\\\\1.log',\n",
       " 2130.6575987093,\n",
       " 3738.3627929906,\n",
       " 3438.7909738717,\n",
       " 528.9027472774,\n",
       " 1819.9945773954,\n",
       " 2139.2327790974,\n",
       " 177.239994622,\n",
       " './log整理\\\\2.log',\n",
       " 170.3782996459,\n",
       " 1945.3739972214,\n",
       " 151.4825453731,\n",
       " 207.1499058887,\n",
       " 151.0241552389,\n",
       " 153.2673657793,\n",
       " 159.9208191432,\n",
       " 244.172761495,\n",
       " 991.0390803567,\n",
       " 189.1913682607,\n",
       " 1518.3843499305,\n",
       " 212.8482050822,\n",
       " './log整理\\\\3.log',\n",
       " 187.0596961413,\n",
       " 152.2286559405,\n",
       " 149.6223168272,\n",
       " 154.6322936273,\n",
       " 151.8632635683,\n",
       " 150.7100475038,\n",
       " 152.5735669789,\n",
       " 294.2782682741,\n",
       " 157.82482635,\n",
       " './log整理\\\\4.log',\n",
       " 187.5245372653,\n",
       " 153.0581223392,\n",
       " 152.9054362927,\n",
       " 160.6214036031,\n",
       " 183.7671760857,\n",
       " 150.5572235168,\n",
       " 152.7993546363,\n",
       " './log整理\\\\5.log']"
      ]
     },
     "execution_count": 38,
     "metadata": {},
     "output_type": "execute_result"
    }
   ],
   "source": [
    "result"
   ]
  },
  {
   "cell_type": "code",
   "execution_count": 39,
   "metadata": {},
   "outputs": [],
   "source": [
    "# 整理后的结果\n",
    "refined_result=[5194.2966880294,\n",
    " 5197.167839376149,\n",
    " 5469.337904454603,\n",
    " 4193.813606417783,\n",
    " 4741.00515394613,\n",
    " 3820.3131358400933,\n",
    " 3582.3661542598484,\n",
    " 4418.666069107695,\n",
    " 4600.3867700444,\n",
    " 4643.536906736,\n",
    " 4428.746784385784,\n",
    " 4626.020526150674,\n",
    " 3738.3627929906,\n",
    " 3438.7909738717,\n",
    " 3164.6125128848653,\n",
    " 2998.731636265854,\n",
    " 3690.638103347824,\n",
    " 3567.9879442477,\n",
    " 2572.140008067,\n",
    " 2966.3826020705,\n",
    " 2109.0635952136,\n",
    " 2368.3191413078,\n",
    " 3021.369336261372,\n",
    " 1901.719939048985,\n",
    " 2334.9040469681354,\n",
    " 2723.2130596513243,\n",
    " 2284.3030072155248,\n",
    " 1280.584054138843,\n",
    " 3431.3012593555327,\n",
    " 1581.966030294882,\n",
    " 3087.1183614932997,\n",
    " 2200.4655133778515,\n",
    " 2908.954690090978,\n",
    " 1783.4001703043068,\n",
    " 2130.6575987093,\n",
    " 528.9027472774,\n",
    " 1819.9945773954,\n",
    " 2139.2327790974,\n",
    " 177.239994622,\n",
    " 170.3782996459,\n",
    " 1945.3739972214,\n",
    " 151.4825453731,\n",
    " 207.1499058887,\n",
    " 151.0241552389,\n",
    " 153.2673657793,\n",
    " 159.9208191432,\n",
    " 244.172761495,\n",
    " 991.0390803567,\n",
    " 189.1913682607,\n",
    " 1518.3843499305,\n",
    " 212.8482050822,\n",
    " 187.0596961413,\n",
    " 152.2286559405,\n",
    " 149.6223168272,\n",
    " 154.6322936273,\n",
    " 151.8632635683,\n",
    " 150.7100475038,\n",
    " 152.5735669789,\n",
    " 294.2782682741,\n",
    " 157.82482635,\n",
    " 187.5245372653,\n",
    " 153.0581223392,\n",
    " 152.9054362927,\n",
    " 160.6214036031,\n",
    " 183.7671760857,\n",
    " 150.5572235168,\n",
    " 152.7993546363]"
   ]
  },
  {
   "cell_type": "code",
   "execution_count": 54,
   "metadata": {},
   "outputs": [
    {
     "data": {
      "image/png": "[encoded data removed]",
      "text/plain": [
       "<Figure size 800x400 with 1 Axes>"
      ]
     },
     "metadata": {},
     "output_type": "display_data"
    }
   ],
   "source": [
    "import matplotlib.pyplot as plt\n",
    "\n",
    "plt.figure(figsize=[8,4])\n",
    "plt.plot(refined_result,color='green',linewidth=0.5)\n",
    "plt.xlabel('Training Time')\n",
    "plt.ylabel('Validate Average Travel Time (s)')\n",
    "plt.savefig('./log整理/refined_result.png')\n",
    "with open('./log整理/refined_result.json','w') as f:\n",
    "    json.dump(refined_result,f)"
   ]
  },
  {
   "cell_type": "code",
   "execution_count": null,
   "metadata": {},
   "outputs": [],
   "source": []
  }
 ],
 "metadata": {
  "kernelspec": {
   "display_name": "pytorchCUDA11.7",
   "language": "python",
   "name": "python3"
  },
  "language_info": {
   "codemirror_mode": {
    "name": "ipython",
    "version": 3
   },
   "file_extension": ".py",
   "mimetype": "text/x-python",
   "name": "python",
   "nbconvert_exporter": "python",
   "pygments_lexer": "ipython3",
   "version": "3.11.4"
  }
 },
 "nbformat": 4,
 "nbformat_minor": 2
}
